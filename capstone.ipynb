{
 "cells": [
  {
   "cell_type": "markdown",
   "metadata": {},
   "source": [
    "<h3 style=\"text-align: center\">The capstone project for the final course in Applied Data Science specialization</h3>\n"
   ]
  },
  {
   "cell_type": "markdown",
   "metadata": {},
   "source": [
    "## Import required modules"
   ]
  },
  {
   "cell_type": "code",
   "execution_count": 1,
   "metadata": {},
   "outputs": [],
   "source": [
    "import pandas as pd\n",
    "import numpy as np\n",
    "from geopy.geocoders import Nominatim\n",
    "import json\n",
    "import requests\n",
    "import folium\n",
    "import docx"
   ]
  },
  {
   "cell_type": "markdown",
   "metadata": {},
   "source": [
    "## Introduction/Business Problem"
   ]
  },
  {
   "cell_type": "markdown",
   "metadata": {},
   "source": [
    "I'll decide what is the best city to start a business in between two cities: **City of Toronto and New York City**\n",
    "\n",
    "It's important, because what is the matter of starting a business and it'll fail?\n",
    "\n",
    "This is for anyone who wants  to open a restaurant in one of these two cities."
   ]
  },
  {
   "cell_type": "markdown",
   "metadata": {},
   "source": [
    "## Data"
   ]
  },
  {
   "cell_type": "markdown",
   "metadata": {},
   "source": [
    "I'll use the **foursqaure api.**\n",
    "\n",
    "I'll compare the venues in the two cities. The city which has a few restaurants in its top venues, is the best one to open a restaurant in.\n",
    "\n",
    "I'll use the **explore** endpoint for doing this comparison.\n",
    "\n",
    "The endpoint group is **venues.**"
   ]
  },
  {
   "cell_type": "markdown",
   "metadata": {},
   "source": [
    "## Methodology"
   ]
  },
  {
   "cell_type": "markdown",
   "metadata": {},
   "source": [
    "I'll get the data for the two cities from the **foursquare api** with a 5000m radius to explore the top 100 venues around them, I'll need to get the cities geographic coordinates, I'll use the **geopy** library for this. I'll use **pandas** to create the dataframes and **folium** to create a map about each city data, it'll help a lot to decide which city is the best to open a restaurant in.\n",
    "\n",
    "The reason why I chose a 5000m radius because there were no restaurants around **City of Toronto** with 500m radius."
   ]
  },
  {
   "cell_type": "markdown",
   "metadata": {},
   "source": [
    "### First, let's get the cordinates"
   ]
  },
  {
   "cell_type": "code",
   "execution_count": 2,
   "metadata": {
    "tags": []
   },
   "outputs": [
    {
     "name": "stdout",
     "output_type": "stream",
     "text": [
      "New York city cordinates are: [40.7127281, -74.0060152]\n",
      "City of Toronto cordinates are: [43.7170226, -79.41978303501344]\n"
     ]
    }
   ],
   "source": [
    "# Get Toronto location cordinates\n",
    "t_address = \"City of Toronto, ON\"\n",
    "t_locater = Nominatim(user_agent=\"tr_explorer\")\n",
    "t_latitude = t_locater.geocode(t_address).latitude\n",
    "t_longitude = t_locater.geocode(t_address).longitude\n",
    "\n",
    "# Get New York City location cordinates\n",
    "ny_address = \"New York City, NY\"\n",
    "n_locater = Nominatim(user_agent=\"ny_explorer\")\n",
    "n_latitude = n_locater.geocode(ny_address).latitude\n",
    "n_longitude = n_locater.geocode(ny_address).longitude\n",
    "print(f\"New York city cordinates are: [{n_latitude}, {n_longitude}]\")\n",
    "print(f\"City of Toronto cordinates are: [{t_latitude}, {t_longitude}]\")"
   ]
  },
  {
   "cell_type": "markdown",
   "metadata": {},
   "source": [
    "### Now, let's define our URLs"
   ]
  },
  {
   "cell_type": "code",
   "execution_count": 3,
   "metadata": {
    "tags": []
   },
   "outputs": [],
   "source": [
    "# Important credentials\n",
    "CLIENT_ID = \"YJU3NJMH0W2M5FSKE1EWKFF3QW2OBDN4SO33HFCAL5ISXY4U\"\n",
    "CLIENT_SECRET = \"11CFTR0YPYCSVJIAHW4SRXO30521GC5URFH4XXEL5SH5U2BH\"\n",
    "VERSION = \"20180608\"\n",
    "LIMIT = 100\n",
    "RADIUS = 5000\n",
    "\n",
    "# The URLs\n",
    "ny_url = f\"https://api.foursquare.com/v2/venues/explore?&client_id={CLIENT_ID}&client_secret={CLIENT_SECRET}&v={VERSION}&ll={n_latitude},{n_longitude}&radius={RADIUS}&limit={LIMIT}\"\n",
    "\n",
    "t_url = f\"https://api.foursquare.com/v2/venues/explore?&client_id={CLIENT_ID}&client_secret={CLIENT_SECRET}&v={VERSION}&ll={t_latitude},{t_longitude}&radius={RADIUS}&limit={LIMIT}\""
   ]
  },
  {
   "cell_type": "markdown",
   "metadata": {},
   "source": [
    "### Making the requests to the api"
   ]
  },
  {
   "cell_type": "code",
   "execution_count": 4,
   "metadata": {},
   "outputs": [],
   "source": [
    "ny_results = requests.get(ny_url).json()\n",
    "t_results = requests.get(t_url).json()"
   ]
  },
  {
   "cell_type": "code",
   "execution_count": 5,
   "metadata": {},
   "outputs": [
    {
     "data": {
      "text/plain": [
       ": [{'id': '4bf58dd8d48988d1dc931735',\n",
       "         'name': 'Tea Room',\n",
       "         'pluralName': 'Tea Rooms',\n",
       "         'shortName': 'Tea Room',\n",
       "         'icon': {'prefix': 'https://ss3.4sqi.net/img/categories_v2/food/tearoom_',\n",
       "          'suffix': '.png'},\n",
       "         'primary': True}],\n",
       "       'photos': {'count': 0, 'groups': []}},\n",
       "      'referralId': 'e-0-56292858498e5a271a288948-84'},\n",
       "     {'reasons': {'count': 0,\n",
       "       'items': [{'summary': 'This spot is popular',\n",
       "         'type': 'general',\n",
       "         'reasonName': 'globalInteractionReason'}]},\n",
       "      'venue': {'id': '510c85e7e4b0056826b88297',\n",
       "       'name': 'Kura',\n",
       "       'location': {'address': '130 Saint Marks Pl',\n",
       "        'crossStreet': 'btwn 1st Ave & Ave A',\n",
       "        'lat': 40.726802644699376,\n",
       "        'lng': -73.98344407523645,\n",
       "        'labeledLatLngs': [{'label': 'display',\n",
       "          'lat': 40.726802644699376,\n",
       "          'lng': -73.98344407523645}],\n",
       "        'distance': 2466,\n",
       "        'postalCode': '10009',\n",
       "        'cc': 'US',\n",
       "        'city': 'New York',\n",
       "        'state': 'NY',\n",
       "        'country': 'United States',\n",
       "        'formattedAddress': ['130 Saint Marks Pl (btwn 1st Ave & Ave A)',\n",
       "         'New York, NY 10009',\n",
       "         'United States']},\n",
       "       'categories': [{'id': '4bf58dd8d48988d111941735',\n",
       "         'name': 'Japanese Restaurant',\n",
       "         'pluralName': 'Japanese Restaurants',\n",
       "         'shortName': 'Japanese',\n",
       "         'icon': {'prefix': 'https://ss3.4sqi.net/img/categories_v2/food/japanese_',\n",
       "          'suffix': '.png'},\n",
       "         'primary': True}],\n",
       "       'delivery': {'id': '2285741',\n",
       "        'url': 'https://www.seamless.com/menu/kura-130-st-marks-pl-new-york/2285741?affiliate=1131&utm_source=foursquare-affiliate-network&utm_medium=affiliate&utm_campaign=1131&utm_content=2285741',\n",
       "        'provider': {'name': 'seamless',\n",
       "         'icon': {'prefix': 'https://fastly.4sqi.net/img/general/cap/',\n",
       "          'sizes': [40, 50],\n",
       "          'name': '/delivery_provider_seamless_20180129.png'}}},\n",
       "       'photos': {'count': 0, 'groups': []},\n",
       "       'venuePage': {'id': '47661917'}},\n",
       "      'referralId': 'e-0-510c85e7e4b0056826b88297-85'},\n",
       "     {'reasons': {'count': 0,\n",
       "       'items': [{'summary': 'This spot is popular',\n",
       "         'type': 'general',\n",
       "         'reasonName': 'globalInteractionReason'}]},\n",
       "      'venue': {'id': '568c0ce238fafac5f5ffe631',\n",
       "       'name': 'Mah-Ze-Dahr Bakery',\n",
       "       'location': {'address': '28 Greenwich Ave',\n",
       "        'crossStreet': 'Charles Street',\n",
       "        'lat': 40.735117,\n",
       "        'lng': -74.000052,\n",
       "        'labeledLatLngs': [{'label': 'display',\n",
       "          'lat': 40.735117,\n",
       "          'lng': -74.000052}],\n",
       "        'distance': 2542,\n",
       "        'postalCode': '10011',\n",
       "        'cc': 'US',\n",
       "        'city': 'New York',\n",
       "        'state': 'NY',\n",
       "        'country': 'United States',\n",
       "        'formattedAddress': ['28 Greenwich Ave (Charles Street)',\n",
       "         'New York, NY 10011',\n",
       "         'United States']},\n",
       "       'categories': [{'id': '4bf58dd8d48988d16a941735',\n",
       "         'name': 'Bakery',\n",
       "         'pluralName': 'Bakeries',\n",
       "         'shortName': 'Bakery',\n",
       "         'icon': {'prefix': 'https://ss3.4sqi.net/img/categories_v2/food/bakery_',\n",
       "          'suffix': '.png'},\n",
       "         'primary': True}],\n",
       "       'photos': {'count': 0, 'groups': []}},\n",
       "      'referralId': 'e-0-568c0ce238fafac5f5ffe631-86'},\n",
       "     {'reasons': {'count': 0,\n",
       "       'items': [{'summary': 'This spot is popular',\n",
       "         'type': 'general',\n",
       "         'reasonName': 'globalInteractionReason'}]},\n",
       "      'venue': {'id': '4cb34b64aef16dcb6287c754',\n",
       "       'name': 'Good Beer NYC',\n",
       "       'location': {'address': '422 E 9th St',\n",
       "        'crossStreet': 'btwn Avenue A & 1st Ave',\n",
       "        'lat': 40.727643,\n",
       "        'lng': -73.983835,\n",
       "        'labeledLatLngs': [{'label': 'display',\n",
       "          'lat': 40.727643,\n",
       "          'lng': -73.983835},\n",
       "         {'label': 'entrance', 'lat': 40.727653, 'lng': -73.98381}],\n",
       "        'distance': 2501,\n",
       "        'postalCode': '10009',\n",
       "        'cc': 'US',\n",
       "        'neighborhood': 'East Village',\n",
       "        'city': 'New York',\n",
       "        'state': 'NY',\n",
       "        'country': 'United States',\n",
       "        'formattedAddress': ['422 E 9th St (btwn Avenue A & 1st Ave)',\n",
       "         'New York, NY 10009',\n",
       "         'United States']},\n",
       "       'categories': [{'id': '5370f356bcbc57f1066c94c2',\n",
       "         'name': 'Beer Store',\n",
       "         'pluralName': 'Beer Stores',\n",
       "         'shortName': 'Beer Store',\n",
       "         'icon': {'prefix': 'https://ss3.4sqi.net/img/categories_v2/nightlife/beergarden_',\n",
       "          'suffix': '.png'},\n",
       "         'primary': True}],\n",
       "       'photos': {'count': 0, 'groups': []}},\n",
       "      'referralId': 'e-0-4cb34b64aef16dcb6287c754-87'},\n",
       "     {'reasons': {'count': 0,\n",
       "       'items': [{'summary': 'This spot is popular',\n",
       "         'type': 'general',\n",
       "         'reasonName': 'globalInteractionReason'}]},\n",
       "      'venue': {'id': '585164b77220e62219c9aeb6',\n",
       "       'name': '4 Charles Prime Rib',\n",
       "       'location': {'address': '4 Charles St',\n",
       "        'crossStreet': 'Greenwich Ave',\n",
       "        'lat': 40.735219495923204,\n",
       "        'lng': -74.0006488188871,\n",
       "        'labeledLatLngs': [{'label': 'display',\n",
       "          'lat': 40.735219495923204,\n",
       "          'lng': -74.0006488188871},\n",
       "         {'label': 'entrance', 'lat': 40.735185, 'lng': -74.000661}],\n",
       "        'distance': 2544,\n",
       "        'postalCode': '10014',\n",
       "        'cc': 'US',\n",
       "        'city': 'New York',\n",
       "        'state': 'NY',\n",
       "        'country': 'United States',\n",
       "        'formattedAddress': ['4 Charles St (Greenwich Ave)',\n",
       "         'New York, NY 10014',\n",
       "         'United States']},\n",
       "       'categories': [{'id': '4bf58dd8d48988d1cc941735',\n",
       "         'name': 'Steakhouse',\n",
       "         'pluralName': 'Steakhouses',\n",
       "         'shortName': 'Steakhouse',\n",
       "         'icon': {'prefix': 'https://ss3.4sqi.net/img/categories_v2/food/steakhouse_',\n",
       "          'suffix': '.png'},\n",
       "         'primary': True}],\n",
       "       'photos': {'count': 0, 'groups': []}},\n",
       "      'referralId': 'e-0-585164b77220e62219c9aeb6-88'},\n",
       "     {'reasons': {'count': 0,\n",
       "       'items': [{'summary': 'This spot is popular',\n",
       "         'type': 'general',\n",
       "         'reasonName': 'globalInteractionReason'}]},\n",
       "      'venue': {'id': '4a8cc1d4f964a520130f20e3',\n",
       "       'name': 'Strand Bookstore',\n",
       "       'location': {'address': '828 Broadway',\n",
       "        'crossStreet': 'at E 12th St',\n",
       "        'lat': 40.73314000684355,\n",
       "        'lng': -73.99091161094675,\n",
       "        'labeledLatLngs': [{'label': 'display',\n",
       "          'lat': 40.73314000684355,\n",
       "          'lng': -73.99091161094675}],\n",
       "        'distance': 2605,\n",
       "        'postalCode': '10003',\n",
       "        'cc': 'US',\n",
       "        'city': 'New York',\n",
       "        'state': 'NY',\n",
       "        'country': 'United States',\n",
       "        'formattedAddress': ['828 Broadway (at E 12th St)',\n",
       "         'New York, NY 10003',\n",
       "         'United States']},\n",
       "       'categories': [{'id': '4bf58dd8d48988d114951735',\n",
       "         'name': 'Bookstore',\n",
       "         'pluralName': 'Bookstores',\n",
       "         'shortName': 'Bookstore',\n",
       "         'icon': {'prefix': 'https://ss3.4sqi.net/img/categories_v2/shops/bookstore_',\n",
       "          'suffix': '.png'},\n",
       "         'primary': True}],\n",
       "       'photos': {'count': 0, 'groups': []},\n",
       "       'venuePage': {'id': '41313246'}},\n",
       "      'referralId': 'e-0-4a8cc1d4f964a520130f20e3-89'},\n",
       "     {'reasons': {'count': 0,\n",
       "       'items': [{'summary': 'This spot is popular',\n",
       "         'type': 'general',\n",
       "         'reasonName': 'globalInteractionReason'}]},\n",
       "      'venue': {'id': '54eb522a498e405c83c1f104',\n",
       "       'name': 'SoulCycle Brooklyn Heights',\n",
       "       'location': {'address': '55 Court St',\n",
       "        'crossStreet': 'btwn Joralemon & Livingston St',\n",
       "        'lat': 40.69225331442192,\n",
       "        'lng': -73.99104239018473,\n",
       "        'labeledLatLngs': [{'label': 'display',\n",
       "          'lat': 40.69225331442192,\n",
       "          'lng': -73.99104239018473}],\n",
       "        'distance': 2606,\n",
       "        'postalCode': '11201',\n",
       "        'cc': 'US',\n",
       "        'city': 'Brooklyn',\n",
       "        'state': 'NY',\n",
       "        'country': 'United States',\n",
       "        'formattedAddress': ['55 Court St (btwn Joralemon & Livingston St)',\n",
       "         'Brooklyn, NY 11201',\n",
       "         'United States']},\n",
       "       'categories': [{'id': '52f2ab2ebcbc57f1066b8b49',\n",
       "         'name': 'Cycle Studio',\n",
       "         'pluralName': 'Cycle Studios',\n",
       "         'shortName': 'Cycle Studio',\n",
       "         'icon': {'prefix': 'https://ss3.4sqi.net/img/categories_v2/shops/bikeshop_',\n",
       "          'suffix': '.png'},\n",
       "         'primary': True}],\n",
       "       'photos': {'count': 0, 'groups': []}},\n",
       "      'referralId': 'e-0-54eb522a498e405c83c1f104-90'},\n",
       "     {'reasons': {'count': 0,\n",
       "       'items': [{'summary': 'This spot is popular',\n",
       "         'type': 'general',\n",
       "         'reasonName': 'globalInteractionReason'}]},\n",
       "      'venue': {'id': '4f5bcf37e4b09a78bfc29e19',\n",
       "       'name': 'Alphabet City Beer Co.',\n",
       "       'location': {'address': '96 Avenue C',\n",
       "        'crossStreet': 'at E 6th St',\n",
       "        'lat': 40.72375330853463,\n",
       "        'lng': -73.97904252196432,\n",
       "        'labeledLatLngs': [{'label': 'display',\n",
       "          'lat': 40.72375330853463,\n",
       "          'lng': -73.97904252196432},\n",
       "         {'label': 'entrance', 'lat': 40.72371, 'lng': -73.978967}],\n",
       "        'distance': 2585,\n",
       "        'postalCode': '10009',\n",
       "        'cc': 'US',\n",
       "        'city': 'New York',\n",
       "        'state': 'NY',\n",
       "        'country': 'United States',\n",
       "        'formattedAddress': ['96 Avenue C (at E 6th St)',\n",
       "         'New York, NY 10009',\n",
       "         'United States']},\n",
       "       'categories': [{'id': '56aa371ce4b08b9a8d57356c',\n",
       "         'name': 'Beer Bar',\n",
       "         'pluralName': 'Beer Bars',\n",
       "         'shortName': 'Beer Bar',\n",
       "         'icon': {'prefix': 'https://ss3.4sqi.net/img/categories_v2/nightlife/pub_',\n",
       "          'suffix': '.png'},\n",
       "         'primary': True}],\n",
       "       'photos': {'count': 0, 'groups': []},\n",
       "       'venuePage': {'id': '47099013'}},\n",
       "      'referralId': 'e-0-4f5bcf37e4b09a78bfc29e19-91'},\n",
       "     {'reasons': {'count': 0,\n",
       "       'items': [{'summary': 'This spot is popular',\n",
       "         'type': 'general',\n",
       "         'reasonName': 'globalInteractionReason'}]},\n",
       "      'venue': {'id': '4b2a92cbf964a520a7ab24e3',\n",
       "       'name': 'Casey Rubber Stamp',\n",
       "       'location': {'address': '322 E 11th St',\n",
       "        'crossStreet': '2nd Ave & 1st Ave',\n",
       "        'lat': 40.729961572238864,\n",
       "        'lng': -73.98509847052101,\n",
       "        'labeledLatLngs': [{'label': 'display',\n",
       "          'lat': 40.729961572238864,\n",
       "          'lng': -73.98509847052101},\n",
       "         {'label': 'entrance', 'lat': 40.72979, 'lng': -73.985207}],\n",
       "        'distance': 2606,\n",
       "        'postalCode': '10003',\n",
       "        'cc': 'US',\n",
       "        'city': 'New York',\n",
       "        'state': 'NY',\n",
       "        'country': 'United States',\n",
       "        'formattedAddress': ['322 E 11th St (2nd Ave & 1st Ave)',\n",
       "         'New York, NY 10003',\n",
       "         'United States']},\n",
       "       'categories': [{'id': '4bf58dd8d48988d127951735',\n",
       "         'name': 'Arts & Crafts Store',\n",
       "         'pluralName': 'Arts & Crafts Stores',\n",
       "         'shortName': 'Arts & Crafts',\n",
       "         'icon': {'prefix': 'https://ss3.4sqi.net/img/categories_v2/shops/artstore_',\n",
       "          'suffix': '.png'},\n",
       "         'primary': True}],\n",
       "       'photos': {'count': 0, 'groups': []}},\n",
       "      'referralId': 'e-0-4b2a92cbf964a520a7ab24e3-92'},\n",
       "     {'reasons': {'count': 0,\n",
       "       'items': [{'summary': 'This spot is popular',\n",
       "         'type': 'general',\n",
       "         'reasonName': 'globalInteractionReason'}]},\n",
       "      'venue': {'id': '4a044315f964a520ea711fe3',\n",
       "       'name': 'Taïm',\n",
       "       'location': {'address': '222 Waverly Pl',\n",
       "        'crossStreet': 'btwn Perry & W 11th St',\n",
       "        'lat': 40.735970102491926,\n",
       "        'lng': -74.00194019079207,\n",
       "        'labeledLatLngs': [{'label': 'display',\n",
       "          'lat': 40.735970102491926,\n",
       "          'lng': -74.00194019079207},\n",
       "         {'label': 'entrance', 'lat': 40.735887, 'lng': -74.001873}],\n",
       "        'distance': 2610,\n",
       "        'postalCode': '10014',\n",
       "        'cc': 'US',\n",
       "        'neighborhood': 'West Village',\n",
       "        'city': 'New York',\n",
       "        'state': 'NY',\n",
       "        'country': 'United States',\n",
       "        'formattedAddress': ['222 Waverly Pl (btwn Perry & W 11th St)',\n",
       "         'New York, NY 10014',\n",
       "         'United States']},\n",
       "       'categories': [{'id': '4bf58dd8d48988d10b941735',\n",
       "         'name': 'Falafel Restaurant',\n",
       "         'pluralName': 'Falafel Restaurants',\n",
       "         'shortName': 'Falafel',\n",
       "         'icon': {'prefix': 'https://ss3.4sqi.net/img/categories_v2/food/falafel_',\n",
       "          'suffix': '.png'},\n",
       "         'primary': True}],\n",
       "       'photos': {'count': 0, 'groups': []}},\n",
       "      'referralId': 'e-0-4a044315f964a520ea711fe3-93'},\n",
       "     {'reasons': {'count': 0,\n",
       "       'items': [{'summary': 'This spot is popular',\n",
       "         'type': 'general',\n",
       "         'reasonName': 'globalInteractionReason'}]},\n",
       "      'venue': {'id': '4b300d20f964a5202bf524e3',\n",
       "       'name': 'Russo’s Mozzarella & Pasta',\n",
       "       'location': {'address': '344 E 11th St',\n",
       "        'crossStreet': 'btw 1st & 2nd Ave',\n",
       "        'lat': 40.72951,\n",
       "        'lng': -73.984298,\n",
       "        'labeledLatLngs': [{'label': 'display',\n",
       "          'lat': 40.72951,\n",
       "          'lng': -73.984298},\n",
       "         {'label': 'entrance', 'lat': 40.729416, 'lng': -73.984318}],\n",
       "        'distance': 2616,\n",
       "        'postalCode': '10003',\n",
       "        'cc': 'US',\n",
       "        'city': 'New York',\n",
       "        'state': 'NY',\n",
       "        'country': 'United States',\n",
       "        'formattedAddress': ['344 E 11th St (btw 1st & 2nd Ave)',\n",
       "         'New York, NY 10003',\n",
       "         'United States']},\n",
       "       'categories': [{'id': '4bf58dd8d48988d1f5941735',\n",
       "         'name': 'Gourmet Shop',\n",
       "         'pluralName': 'Gourmet Shops',\n",
       "         'shortName': 'Gourmet',\n",
       "         'icon': {'prefix': 'https://ss3.4sqi.net/img/categories_v2/shops/food_gourmet_',\n",
       "          'suffix': '.png'},\n",
       "         'primary': True}],\n",
       "       'photos': {'count': 0, 'groups': []}},\n",
       "      'referralId': 'e-0-4b300d20f964a5202bf524e3-94'},\n",
       "     {'reasons': {'count': 0,\n",
       "       'items': [{'summary': 'This spot is popular',\n",
       "         'type': 'general',\n",
       "         'reasonName': 'globalInteractionReason'}]},\n",
       "      'venue': {'id': '56965f2e498e683a33b43263',\n",
       "       'name': 'Juice Vitality',\n",
       "       'location': {'address': '192 1st Ave',\n",
       "        'crossStreet': 'btwn E 11 & 12th St',\n",
       "        'lat': 40.729714154152404,\n",
       "        'lng': -73.98365020751953,\n",
       "        'labeledLatLngs': [{'label': 'display',\n",
       "          'lat': 40.729714154152404,\n",
       "          'lng': -73.98365020751953}],\n",
       "        'distance': 2671,\n",
       "        'postalCode': '10009',\n",
       "        'cc': 'US',\n",
       "        'city': 'New York',\n",
       "        'state': 'NY',\n",
       "        'country': 'United States',\n",
       "        'formattedAddress': ['192 1st Ave (btwn E 11 & 12th St)',\n",
       "         'New York, NY 10009',\n",
       "         'United States']},\n",
       "       'categories': [{'id': '4bf58dd8d48988d112941735',\n",
       "         'name': 'Juice Bar',\n",
       "         'pluralName': 'Juice Bars',\n",
       "         'shortName': 'Juice Bar',\n",
       "         'icon': {'prefix': 'https://ss3.4sqi.net/img/categories_v2/food/juicebar_',\n",
       "          'suffix': '.png'},\n",
       "         'primary': True}],\n",
       "       'photos': {'count': 0, 'groups': []}},\n",
       "      'referralId': 'e-0-56965f2e498e683a33b43263-95'},\n",
       "     {'reasons': {'count': 0,\n",
       "       'items': [{'summary': 'This spot is popular',\n",
       "         'type': 'general',\n",
       "         'reasonName': 'globalInteractionReason'}]},\n",
       "      'venue': {'id': '4c91772e57e5b60cfa25611c',\n",
       "       'name': 'Mémé Mediterranean',\n",
       "       'location': {'address': '581 Hudson Street',\n",
       "        'lat': 40.73635,\n",
       "        'lng': -74.00588,\n",
       "        'labeledLatLngs': [{'label': 'display',\n",
       "          'lat': 40.73635,\n",
       "          'lng': -74.00588}],\n",
       "        'distance': 2629,\n",
       "        'postalCode': '10014',\n",
       "        'cc': 'US',\n",
       "        'city': 'New York',\n",
       "        'state': 'NY',\n",
       "        'country': 'United States',\n",
       "        'formattedAddress': ['581 Hudson Street',\n",
       "         'New York, NY 10014',\n",
       "         'United States']},\n",
       "       'categories': [{'id': '4bf58dd8d48988d1c0941735',\n",
       "         'name': 'Mediterranean Restaurant',\n",
       "         'pluralName': 'Mediterranean Restaurants',\n",
       "         'shortName': 'Mediterranean',\n",
       "         'icon': {'prefix': 'https://ss3.4sqi.net/img/categories_v2/food/mediterranean_',\n",
       "          'suffix': '.png'},\n",
       "         'primary': True}],\n",
       "       'photos': {'count': 0, 'groups': []},\n",
       "       'venuePage': {'id': '37486906'}},\n",
       "      'referralId': 'e-0-4c91772e57e5b60cfa25611c-96'},\n",
       "     {'reasons': {'count': 0,\n",
       "       'items': [{'summary': 'This spot is popular',\n",
       "         'type': 'general',\n",
       "         'reasonName': 'globalInteractionReason'}]},\n",
       "      'venue': {'id': '5a0740a3e1f22816d11723d5',\n",
       "       'name': 'Lillo',\n",
       "       'location': {'address': '331 Henry Street',\n",
       "        'lat': 40.690199941477445,\n",
       "        'lng': -73.99654010450837,\n",
       "        'labeledLatLngs': [{'label': 'display',\n",
       "          'lat': 40.690199941477445,\n",
       "          'lng': -73.99654010450837}],\n",
       "        'distance': 2632,\n",
       "        'postalCode': '11201',\n",
       "        'cc': 'US',\n",
       "        'neighborhood': 'Cobble Hill',\n",
       "        'city': 'Brooklyn',\n",
       "        'state': 'NY',\n",
       "        'country': 'United States',\n",
       "        'formattedAddress': ['331 Henry Street',\n",
       "         'Brooklyn, NY 11201',\n",
       "         'United States']},\n",
       "       'categories': [{'id': '4bf58dd8d48988d110941735',\n",
       "         'name': 'Italian Restaurant',\n",
       "         'pluralName': 'Italian Restaurants',\n",
       "         'shortName': 'Italian',\n",
       "         'icon': {'prefix': 'https://ss3.4sqi.net/img/categories_v2/food/italian_',\n",
       "          'suffix': '.png'},\n",
       "         'primary': True}],\n",
       "       'photos': {'count': 0, 'groups': []}},\n",
       "      'referralId': 'e-0-5a0740a3e1f22816d11723d5-97'},\n",
       "     {'reasons': {'count': 0,\n",
       "       'items': [{'summary': 'This spot is popular',\n",
       "         'type': 'general',\n",
       "         'reasonName': 'globalInteractionReason'}]},\n",
       "      'venue': {'id': '4b6cba70f964a520ae4f2ce3',\n",
       "       'name': 'Peridance Capezio Center',\n",
       "       'location': {'address': '126 E 13th St',\n",
       "        'crossStreet': 'btwn 3rd Ave. & 4th Ave.',\n",
       "        'lat': 40.73298682271572,\n",
       "        'lng': -73.98852241900113,\n",
       "        'labeledLatLngs': [{'label': 'display',\n",
       "          'lat': 40.73298682271572,\n",
       "          'lng': -73.98852241900113}],\n",
       "        'distance': 2695,\n",
       "        'postalCode': '10003',\n",
       "        'cc': 'US',\n",
       "        'city': 'New York',\n",
       "        'state': 'NY',\n",
       "        'country': 'United States',\n",
       "        'formattedAddress': ['126 E 13th St (btwn 3rd Ave. & 4th Ave.)',\n",
       "         'New York, NY 10003',\n",
       "         'United States']},\n",
       "       'categories': [{'id': '4bf58dd8d48988d134941735',\n",
       "         'name': 'Dance Studio',\n",
       "         'pluralName': 'Dance Studios',\n",
       "         'shortName': 'Dance Studio',\n",
       "         'icon': {'prefix': 'https://ss3.4sqi.net/img/categories_v2/arts_entertainment/performingarts_dancestudio_',\n",
       "          'suffix': '.png'},\n",
       "         'primary': True}],\n",
       "       'photos': {'count': 0, 'groups': []},\n",
       "       'venuePage': {'id': '147196600'}},\n",
       "      'referralId': 'e-0-4b6cba70f964a520ae4f2ce3-98'},\n",
       "     {'reasons': {'count': 0,\n",
       "       'items': [{'summary': 'This spot is popular',\n",
       "         'type': 'general',\n",
       "         'reasonName': 'globalInteractionReason'}]},\n",
       "      'venue': {'id': '55664aac498e10d4e5769e5e',\n",
       "       'name': 'Damascus Bread & Pastry Shop',\n",
       "       'location': {'address': '195 Atlantic Ave',\n",
       "        'crossStreet': 'btwn Court & Clinton St',\n",
       "        'lat': 40.69004694897731,\n",
       "        'lng': -73.99305403232574,\n",
       "        'labeledLatLngs': [{'label': 'display',\n",
       "          'lat': 40.69004694897731,\n",
       "          'lng': -73.99305403232574},\n",
       "         {'label': 'entrance', 'lat': 40.690031, 'lng': -73.993065}],\n",
       "        'distance': 2751,\n",
       "        'postalCode': '11201',\n",
       "        'cc': 'US',\n",
       "        'city': 'Brooklyn',\n",
       "        'state': 'NY',\n",
       "        'country': 'United States',\n",
       "        'formattedAddress': ['195 Atlantic Ave (btwn Court & Clinton St)',\n",
       "         'Brooklyn, NY 11201',\n",
       "         'United States']},\n",
       "       'categories': [{'id': '4bf58dd8d48988d16a941735',\n",
       "         'name': 'Bakery',\n",
       "         'pluralName': 'Bakeries',\n",
       "         'shortName': 'Bakery',\n",
       "         'icon': {'prefix': 'https://ss3.4sqi.net/img/categories_v2/food/bakery_',\n",
       "          'suffix': '.png'},\n",
       "         'primary': True}],\n",
       "       'photos': {'count': 0, 'groups': []}},\n",
       "      'referralId': 'e-0-55664aac498e10d4e5769e5e-99'}]}]}}"
      ]
     },
     "execution_count": 5,
     "metadata": {},
     "output_type": "execute_result"
    }
   ],
   "source": [
    "ny_results"
   ]
  },
  {
   "cell_type": "markdown",
   "metadata": {},
   "source": [
    "### Defining a function will help later"
   ]
  },
  {
   "cell_type": "code",
   "execution_count": 6,
   "metadata": {},
   "outputs": [],
   "source": [
    "def get_category_type(row):\n",
    "    try:\n",
    "        categories_list = row['categories']\n",
    "    except:\n",
    "        categories_list = row['venue.categories']\n",
    "    if len(categories_list) == 0:\n",
    "        return None\n",
    "    else:\n",
    "        return categories_list[0]['name']"
   ]
  },
  {
   "cell_type": "markdown",
   "metadata": {},
   "source": [
    "### Get New York City venues"
   ]
  },
  {
   "cell_type": "code",
   "execution_count": 7,
   "metadata": {},
   "outputs": [
    {
     "data": {
      "text/html": [
       "<div>\n",
       "<style scoped>\n",
       "    .dataframe tbody tr th:only-of-type {\n",
       "        vertical-align: middle;\n",
       "    }\n",
       "\n",
       "    .dataframe tbody tr th {\n",
       "        vertical-align: top;\n",
       "    }\n",
       "\n",
       "    .dataframe thead th {\n",
       "        text-align: right;\n",
       "    }\n",
       "</style>\n",
       "<table border=\"1\" class=\"dataframe\">\n",
       "  <thead>\n",
       "    <tr style=\"text-align: right;\">\n",
       "      <th></th>\n",
       "      <th>name</th>\n",
       "      <th>categories</th>\n",
       "      <th>lat</th>\n",
       "      <th>lng</th>\n",
       "    </tr>\n",
       "  </thead>\n",
       "  <tbody>\n",
       "    <tr>\n",
       "      <th>0</th>\n",
       "      <td>Crown Shy</td>\n",
       "      <td>Coffee shop</td>\n",
       "      <td>40.706187</td>\n",
       "      <td>-74.007490</td>\n",
       "    </tr>\n",
       "    <tr>\n",
       "      <th>1</th>\n",
       "      <td>Le Coucou</td>\n",
       "      <td>French Restaurant</td>\n",
       "      <td>40.719114</td>\n",
       "      <td>-74.000202</td>\n",
       "    </tr>\n",
       "    <tr>\n",
       "      <th>2</th>\n",
       "      <td>Kiki's</td>\n",
       "      <td>Greek Restaurant</td>\n",
       "      <td>40.714476</td>\n",
       "      <td>-73.992036</td>\n",
       "    </tr>\n",
       "    <tr>\n",
       "      <th>3</th>\n",
       "      <td>Wayla</td>\n",
       "      <td>Thai Restaurant</td>\n",
       "      <td>40.718291</td>\n",
       "      <td>-73.992584</td>\n",
       "    </tr>\n",
       "    <tr>\n",
       "      <th>4</th>\n",
       "      <td>CAVA</td>\n",
       "      <td>Mediterranean Restaurant</td>\n",
       "      <td>40.721928</td>\n",
       "      <td>-73.996512</td>\n",
       "    </tr>\n",
       "  </tbody>\n",
       "</table>\n",
       "</div>"
      ],
      "text/plain": [
       "        name                categories        lat        lng\n",
       "0  Crown Shy               Coffee shop  40.706187 -74.007490\n",
       "1  Le Coucou         French Restaurant  40.719114 -74.000202\n",
       "2     Kiki's          Greek Restaurant  40.714476 -73.992036\n",
       "3      Wayla           Thai Restaurant  40.718291 -73.992584\n",
       "4       CAVA  Mediterranean Restaurant  40.721928 -73.996512"
      ]
     },
     "execution_count": 7,
     "metadata": {},
     "output_type": "execute_result"
    }
   ],
   "source": [
    "ny_venues = ny_results['response']['groups'][0]['items']\n",
    "ny_nearby_venues = pd.json_normalize(ny_venues)\n",
    "filtered_columns = ['venue.name', 'venue.categories', 'venue.location.lat', 'venue.location.lng']\n",
    "ny_nearby_venues = ny_nearby_venues.loc[:, filtered_columns]\n",
    "ny_nearby_venues['venue.categories'] = ny_nearby_venues.apply(get_category_type, axis=1)\n",
    "ny_nearby_venues.columns = [col.split(\".\")[-1] for col in ny_nearby_venues.columns]\n",
    "ny_restaurants = ny_nearby_venues[ny_nearby_venues.categories.str[-10:] == \"Restaurant\"]\n",
    "ny_restaurants.reset_index(drop=True, inplace=True)\n",
    "ny_restaurants.replace(\"Restaurant\", np.nan, inplace=True)\n",
    "ny_restaurants.fillna(\"Coffee shop\", inplace=True)\n",
    "ny_restaurants.to_csv('ny_restaurants.csv')\n",
    "ny_restaurants.head()"
   ]
  },
  {
   "cell_type": "markdown",
   "metadata": {},
   "source": [
    "### Get Toronto venues"
   ]
  },
  {
   "cell_type": "code",
   "execution_count": 8,
   "metadata": {},
   "outputs": [
    {
     "data": {
      "text/html": [
       "<div>\n",
       "<style scoped>\n",
       "    .dataframe tbody tr th:only-of-type {\n",
       "        vertical-align: middle;\n",
       "    }\n",
       "\n",
       "    .dataframe tbody tr th {\n",
       "        vertical-align: top;\n",
       "    }\n",
       "\n",
       "    .dataframe thead th {\n",
       "        text-align: right;\n",
       "    }\n",
       "</style>\n",
       "<table border=\"1\" class=\"dataframe\">\n",
       "  <thead>\n",
       "    <tr style=\"text-align: right;\">\n",
       "      <th></th>\n",
       "      <th>name</th>\n",
       "      <th>categories</th>\n",
       "      <th>lat</th>\n",
       "      <th>lng</th>\n",
       "    </tr>\n",
       "  </thead>\n",
       "  <tbody>\n",
       "    <tr>\n",
       "      <th>0</th>\n",
       "      <td>Tutto Pronto</td>\n",
       "      <td>Italian Restaurant</td>\n",
       "      <td>43.728235</td>\n",
       "      <td>-79.418086</td>\n",
       "    </tr>\n",
       "    <tr>\n",
       "      <th>1</th>\n",
       "      <td>La Vecchia Ristorante</td>\n",
       "      <td>Italian Restaurant</td>\n",
       "      <td>43.710167</td>\n",
       "      <td>-79.399086</td>\n",
       "    </tr>\n",
       "    <tr>\n",
       "      <th>2</th>\n",
       "      <td>Cibo Wine Bar</td>\n",
       "      <td>Italian Restaurant</td>\n",
       "      <td>43.711464</td>\n",
       "      <td>-79.399570</td>\n",
       "    </tr>\n",
       "    <tr>\n",
       "      <th>3</th>\n",
       "      <td>Grazie Ristorante</td>\n",
       "      <td>Italian Restaurant</td>\n",
       "      <td>43.709329</td>\n",
       "      <td>-79.398823</td>\n",
       "    </tr>\n",
       "    <tr>\n",
       "      <th>4</th>\n",
       "      <td>Balsamico</td>\n",
       "      <td>Italian Restaurant</td>\n",
       "      <td>43.701505</td>\n",
       "      <td>-79.397162</td>\n",
       "    </tr>\n",
       "  </tbody>\n",
       "</table>\n",
       "</div>"
      ],
      "text/plain": [
       "                    name          categories        lat        lng\n",
       "0           Tutto Pronto  Italian Restaurant  43.728235 -79.418086\n",
       "1  La Vecchia Ristorante  Italian Restaurant  43.710167 -79.399086\n",
       "2          Cibo Wine Bar  Italian Restaurant  43.711464 -79.399570\n",
       "3      Grazie Ristorante  Italian Restaurant  43.709329 -79.398823\n",
       "4              Balsamico  Italian Restaurant  43.701505 -79.397162"
      ]
     },
     "execution_count": 8,
     "metadata": {},
     "output_type": "execute_result"
    }
   ],
   "source": [
    "t_venues = t_results['response']['groups'][0]['items']\n",
    "t_nearby_venues = pd.json_normalize(t_venues)\n",
    "filtered_columns = ['venue.name', 'venue.categories', 'venue.location.lat', 'venue.location.lng']\n",
    "t_nearby_venues = t_nearby_venues.loc[:, filtered_columns]\n",
    "t_nearby_venues['venue.categories'] = t_nearby_venues.apply(get_category_type, axis=1)\n",
    "t_nearby_venues.columns = [col.split(\".\")[-1] for col in t_nearby_venues.columns]\n",
    " \n",
    "t_restaurants = t_nearby_venues[t_nearby_venues.categories.str[-10:] == \"Restaurant\"]\n",
    "t_restaurants.reset_index(drop=True, inplace=True)\n",
    "t_restaurants.replace(\"Restaurant\", np.nan, inplace=True)\n",
    "t_restaurants.fillna(\"Coffee shop\", inplace=True)\n",
    "t_restaurants.to_csv('t_restaurants.csv')\n",
    "t_restaurants.head()"
   ]
  },
  {
   "cell_type": "markdown",
   "metadata": {},
   "source": [
    "### Get the number of restaurants in each city"
   ]
  },
  {
   "cell_type": "code",
   "execution_count": 9,
   "metadata": {
    "tags": []
   },
   "outputs": [
    {
     "name": "stdout",
     "output_type": "stream",
     "text": [
      "Number of restaurants in New York City: 19\n",
      "Number of restaurants in City of Toronto: 22\n"
     ]
    }
   ],
   "source": [
    "print(f'Number of restaurants in New York City: {ny_restaurants.shape[0]}')\n",
    "print(f'Number of restaurants in City of Toronto: {t_restaurants.shape[0]}')"
   ]
  },
  {
   "cell_type": "markdown",
   "metadata": {},
   "source": [
    "To be more specific, let's get number of each category of all restaurants in the two cities"
   ]
  },
  {
   "cell_type": "markdown",
   "metadata": {},
   "source": [
    "#### New York City:"
   ]
  },
  {
   "cell_type": "code",
   "execution_count": 10,
   "metadata": {},
   "outputs": [
    {
     "data": {
      "text/plain": [
       "Italian Restaurant          5\n",
       "Mediterranean Restaurant    2\n",
       "Thai Restaurant             2\n",
       "French Restaurant           2\n",
       "Coffee shop                 1\n",
       "Falafel Restaurant          1\n",
       "Greek Restaurant            1\n",
       "Seafood Restaurant          1\n",
       "Japanese Restaurant         1\n",
       "Udon Restaurant             1\n",
       "New American Restaurant     1\n",
       "Moroccan Restaurant         1\n",
       "Name: categories, dtype: int64"
      ]
     },
     "execution_count": 10,
     "metadata": {},
     "output_type": "execute_result"
    }
   ],
   "source": [
    "ny_restaurants.categories.value_counts()"
   ]
  },
  {
   "cell_type": "markdown",
   "metadata": {},
   "source": [
    "#### City of Toronto:"
   ]
  },
  {
   "cell_type": "code",
   "execution_count": 11,
   "metadata": {},
   "outputs": [
    {
     "data": {
      "text/plain": [
       "Italian Restaurant       10\n",
       "Indian Restaurant         3\n",
       "Japanese Restaurant       2\n",
       "Coffee shop               1\n",
       "Chinese Restaurant        1\n",
       "Indonesian Restaurant     1\n",
       "Fast Food Restaurant      1\n",
       "Sushi Restaurant          1\n",
       "Ramen Restaurant          1\n",
       "French Restaurant         1\n",
       "Name: categories, dtype: int64"
      ]
     },
     "execution_count": 11,
     "metadata": {},
     "output_type": "execute_result"
    }
   ],
   "source": [
    "t_restaurants.categories.value_counts()"
   ]
  },
  {
   "cell_type": "markdown",
   "metadata": {},
   "source": [
    "I don't think that's enough to determine which city is the best, so, let's create a map for each city"
   ]
  },
  {
   "cell_type": "markdown",
   "metadata": {},
   "source": [
    "### New York City map"
   ]
  },
  {
   "cell_type": "code",
   "execution_count": 12,
   "metadata": {},
   "outputs": [
    {
     "data": {
      "text/html": [
       "<div style=\"width:100%;\"><div style=\"position:relative;width:100%;height:0;padding-bottom:60%;\"><span style=\"color:#565656\">Make this Notebook Trusted to load map: File -> Trust Notebook</span><iframe src=\"about:blank\" style=\"position:absolute;width:100%;height:100%;left:0;top:0;border:none !important;\" data-html=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 onload=\"this.contentDocument.open();this.contentDocument.write(atob(this.getAttribute('data-html')));this.contentDocument.close();\" allowfullscreen webkitallowfullscreen mozallowfullscreen></iframe></div></div>"
      ],
      "text/plain": [
       "<folium.folium.Map at 0x7fbbe0ccedf0>"
      ]
     },
     "execution_count": 12,
     "metadata": {},
     "output_type": "execute_result"
    }
   ],
   "source": [
    "ny_map = folium.Map(location=[n_latitude, n_longitude], zoom_start=13)\n",
    "for lat, lng, name, cat in zip(ny_restaurants.lat, ny_restaurants.lng, ny_restaurants.name, ny_restaurants.categories):\n",
    "    label = folium.Popup(f'{name}, {cat}', parse_html=True)\n",
    "    folium.CircleMarker(\n",
    "        [lat, lng],\n",
    "        radius=5,\n",
    "        popup=label,\n",
    "        color=\"red\",\n",
    "        fill=\"True\",\n",
    "        fill_color=\"#650D1B\",\n",
    "        fill_opacity=0.8,\n",
    "        parse_html=False).add_to(ny_map)\n",
    "\n",
    "ny_map        "
   ]
  },
  {
   "cell_type": "markdown",
   "metadata": {},
   "source": [
    "### City of Toronto map:"
   ]
  },
  {
   "cell_type": "code",
   "execution_count": 13,
   "metadata": {},
   "outputs": [
    {
     "data": {
      "text/html": [
       "<div style=\"width:100%;\"><div style=\"position:relative;width:100%;height:0;padding-bottom:60%;\"><span style=\"color:#565656\">Make this Notebook Trusted to load map: File -> Trust Notebook</span><iframe src=\"about:blank\" style=\"position:absolute;width:100%;height:100%;left:0;top:0;border:none !important;\" data-html=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 onload=\"this.contentDocument.open();this.contentDocument.write(atob(this.getAttribute('data-html')));this.contentDocument.close();\" allowfullscreen webkitallowfullscreen mozallowfullscreen></iframe></div></div>"
      ],
      "text/plain": [
       "<folium.folium.Map at 0x7fbbe03a2400>"
      ]
     },
     "execution_count": 13,
     "metadata": {},
     "output_type": "execute_result"
    }
   ],
   "source": [
    "t_map = folium.Map(location=[t_latitude, t_longitude], zoom_start=11)\n",
    "for lat, lng, name, cat in zip(t_restaurants.lat, t_restaurants.lng, t_restaurants.name, t_restaurants.categories):\n",
    "    label = folium.Popup(f'{name}, {cat}', parse_html=True)\n",
    "    folium.CircleMarker(\n",
    "        [lat, lng],\n",
    "        radius=5,\n",
    "        popup=label,\n",
    "        color=\"blue\",\n",
    "        fill=\"True\",\n",
    "        fill_color=\"#2364AA\",\n",
    "        fill_opacity=0.8,\n",
    "        parse_html=False).add_to(t_map)\n",
    "\n",
    "t_map      "
   ]
  },
  {
   "cell_type": "markdown",
   "metadata": {},
   "source": [
    "## Results"
   ]
  },
  {
   "cell_type": "markdown",
   "metadata": {},
   "source": [
    "So, to determine what is the best city, we have to look at some dimensions.\n",
    "\n",
    "* There are no any restaurants around **City of Toronto** with 500m radius but there are 19 restaurants around **New York City** with 500m radius in the top 100 venues.\n",
    "\n",
    "* There are 22 restaurants around **City of Toronto** with 5000m radius in the top 100 venues.\n",
    "\n",
    "* There are 10 Italian restaurants around **City of Toronto** but there are 5 ones only in **New York City**.\n",
    "\n",
    "* There are more different restaurants categories around New York City than City of Toronto.\n",
    "\n",
    "* The top 5 restaurants around **City of Toronto** are Italian restaurants.\n",
    "\n",
    "* There are 3 Indian restaurants in **City of Toronto** but there're no Indian restaurants around **New York City.**"
   ]
  },
  {
   "cell_type": "markdown",
   "metadata": {},
   "source": [
    "## Discussion"
   ]
  },
  {
   "cell_type": "markdown",
   "metadata": {},
   "source": [
    "**City of Toronto and New York City** are big cities, and a lot of people will intend to open a restaurant in one of these two cities, or maybe there is who has a restaurant in one of the two cities and wants to immigrate to the other one, and they are afraid if their business failed in the other city.\n",
    "\n",
    "They have to know who are their competitors, what do they serve, and where their businesses.\n",
    "\n",
    "If they want their businesses to success in the city which they will immigrate to, they have to be careful making their choices."
   ]
  },
  {
   "cell_type": "markdown",
   "metadata": {},
   "source": [
    "## Conclusion"
   ]
  },
  {
   "cell_type": "markdown",
   "metadata": {},
   "source": [
    "If there is anyone who wants to open a restaurant in one of the two cities, they have to notice these things:\n",
    "\n",
    "  * If they will open the restaurant with 500m radius, the best city is **City of Toronto* because there are no restaurants around it with 500m radius in the top 100 venues.\n",
    "\n",
    "  * If they don't care about distance, and they will open it anywhere around the city, they will have to notice these things:\n",
    "  \n",
    "    1. If they will open an Italian or a Japanese Restaurant, the best city is **New York City** because there are less Italian and Japanese restaurants around **New York City** than **City of Toronto** in the top 100 venues.\n",
    "\n",
    "    2. If they will open an Indian, Chinese, Sushi, Fast Food, Ramen or an Indonesian Restaurant, the best city is **New York City**, because these types of restaurants are less around **New York City** than **City of Toronto** in the top 100 venues.\n",
    "\n",
    "    3. If they will open a French Restaurant, the best city is **City of Toronto**, because there are less French Restaurants around **City of Toronto** than **New York City** in the top 100 venues.\n",
    "\n",
    "    4. If they will open a Mediterranean, Thai, Seafood, Falafel, Moroccan, New American, Udon, or Greek Restaurant, the best city is **City of Toronto**, because these type of restaurants are not around **City of Toronto** in the top 100 venues.\n",
    "\n",
    "    5. If they will open a coffee shop, there is no best city in this situation, because there are a coffee shop around each of the two cities in the top 100 venues.\n",
    "\n",
    "    6. If they will open other type of restaurant, it's fine to choose any city they want.\n",
    "\n",
    "So, They have to decide what they want to do before open a restaurant in one of the two cities"
   ]
  }
 ],
 "metadata": {
  "kernelspec": {
   "display_name": "Python 3.8.3 64-bit",
   "language": "python",
   "name": "python38364bit2d8ecee5394e40c596e29dca64b90622"
  },
  "language_info": {
   "codemirror_mode": {
    "name": "ipython",
    "version": 3
   },
   "file_extension": ".py",
   "mimetype": "text/x-python",
   "name": "python",
   "nbconvert_exporter": "python",
   "pygments_lexer": "ipython3",
   "version": "3.8.3"
  }
 },
 "nbformat": 4,
 "nbformat_minor": 2
}